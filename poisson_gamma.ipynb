{
 "cells": [
  {
   "cell_type": "markdown",
   "id": "7665955f-637e-4b96-8e2a-310fc4c658c1",
   "metadata": {},
   "source": [
    "# Estadística bayesiana con Stan - 01 Modelo Poisson-Gamma\n",
    "\n",
    "En este notebook se presenta el uso de cmdstanpy para simular muestras de la distribución predictiva de un modelo simple Poisson-Gamma.\n",
    "\n",
    "$$\n",
    "y_i \\sim Poisson(\\lambda), i, i = 1\\ldots, n,\n",
    "$$\n",
    "\n",
    "$$\n",
    " \\lambda \\sim Gamma(\\alpha, \\beta),\n",
    "$$\n",
    "\n",
    "con $\\alpha$ y $\\beta$ conocidos."
   ]
  },
  {
   "cell_type": "markdown",
   "id": "4df02c64-9470-48e9-b788-a8652a0e3717",
   "metadata": {},
   "source": [
    "# Setup"
   ]
  },
  {
   "cell_type": "code",
   "execution_count": null,
   "id": "5e8629e6-7c02-445c-a8c3-d85a48549e8a",
   "metadata": {},
   "outputs": [],
   "source": [
    "# Cargamos los módulos para el análisis\n",
    "## Manejo de datos y simulación de variable aleatorias\n",
    "import numpy as np\n",
    "import pandas as pd\n",
    "\n",
    "## Gráficas\n",
    "import matplotlib.pyplot as plt\n",
    "import seaborn as sns\n",
    "import arviz as az\n",
    "\n",
    "## Simulación bayesiana\n",
    "from cmdstanpy import CmdStanModel"
   ]
  },
  {
   "cell_type": "markdown",
   "id": "852569dd-6a38-4188-821d-0c8169a779cf",
   "metadata": {},
   "source": [
    "# Definición del modelo en Stan"
   ]
  },
  {
   "cell_type": "markdown",
   "id": "98a54216-9bb4-4638-9ad2-64ad68c80550",
   "metadata": {},
   "source": [
    "El primer paso es definir el modelo en un archivo independiente y guardarlo en con extensión `'.stan'`.\n",
    "\n",
    "El script contiene 3 partes: `data`, `parameters` y `model`.\n",
    "\n",
    "```\n",
    "data {\n",
    "    int<lower=0> N;                   // Número de observaciones\n",
    "    array[N] int<lower=0> y;          // Datos de conteo\n",
    "    real<lower=1e-3> alpha;           // Parámetro de la gamma\n",
    "    real<lower=1e-3> beta;            // Parámetro de la gamma\n",
    "}\n",
    "parameters {\n",
    "    real<lower=1e-3> lambda;          // Parámetro latente\n",
    "}\n",
    "model {\n",
    "    lambda ~ gamma(alpha, beta);       // Prior\n",
    "    y ~ poisson(lambda);               // Likelihood\n",
    "}\n",
    "```"
   ]
  },
  {
   "cell_type": "markdown",
   "id": "7a7210d5-b72e-4f2f-8aab-9f1c83ad2fdd",
   "metadata": {},
   "source": [
    "# Datos\n",
    "\n",
    "Para este ejemplo, consideremos que el valor verdadero (?) de $\\lambda$ es 5. Simulemos $N=150$ valores de una distribución $Poisson(5)$.\n",
    "\n",
    "En este ejemplo sencillo, vamos a declarar $\\alpha$ y $\\beta$ para la distriución inicial (prior) de $\\lambda$, de manera uqe sea poco informativa.\n",
    "\n",
    "Al final creamos un diccionario que usaremos como input para ajustar el modelo con Stan."
   ]
  },
  {
   "cell_type": "code",
   "execution_count": null,
   "id": "25e778fc-e62a-4eda-8baa-5f1f683b4497",
   "metadata": {},
   "outputs": [],
   "source": [
    "np.random.seed(42)\n",
    "N = 150  # Número de observaciones\n",
    "lambda_real = 5 # lambda verdadero\n",
    "y_obs = np.random.poisson(lambda_real, N)  # Datos Poisson\n",
    "\n",
    "alpha, beta = 1, 0.01  # Parámetros de la distribución gamma\n",
    "\n",
    "# Input del modelo\n",
    "data = {\n",
    "    \"N\": N,\n",
    "    \"y\": y_obs.tolist(),\n",
    "    \"alpha\": alpha,\n",
    "    \"beta\": beta\n",
    "}"
   ]
  },
  {
   "cell_type": "markdown",
   "id": "1c301034-d4cc-4f62-8e1a-1da6a8e87001",
   "metadata": {},
   "source": [
    "# Compilación del modelo y ajuste (simulación)\n",
    "\n",
    "Instanciamos el modelo proporcionando la ruta del archivo `.stan`."
   ]
  },
  {
   "cell_type": "code",
   "execution_count": null,
   "id": "de8e98e4-2ef5-4eb3-a376-a28d6a61b6e4",
   "metadata": {},
   "outputs": [],
   "source": [
    "model = CmdStanModel(stan_file=\"poisson_gamma.stan\")\n",
    "\n",
    "fit = model.sample(\n",
    "    data=data,\n",
    "    iter_sampling=2000,\n",
    "    iter_warmup=1000,\n",
    "    chains=4,\n",
    "    parallel_chains=4\n",
    ")"
   ]
  },
  {
   "cell_type": "markdown",
   "id": "eac54085-d117-4ba4-993e-c21410f7ffe7",
   "metadata": {},
   "source": [
    "Podemos imprimir un resumen de la simulación y correr un diágnostico de la simulación.\n",
    "\n",
    "En este caso podemos observar que hubo problemas en la simulación."
   ]
  },
  {
   "cell_type": "code",
   "execution_count": null,
   "id": "984761a5-8908-4056-b0d1-45fcf7be81e4",
   "metadata": {},
   "outputs": [],
   "source": [
    "print(fit.summary())\n",
    "\n",
    "print(fit.diagnose())"
   ]
  },
  {
   "cell_type": "markdown",
   "id": "4f62c93a-a155-4f56-93db-ded1ce6bb4e0",
   "metadata": {},
   "source": [
    "Finalmente podemos utilizar arviz para "
   ]
  },
  {
   "cell_type": "code",
   "execution_count": null,
   "id": "78c0cf62-ee16-41db-a557-5401a90cfc2f",
   "metadata": {},
   "outputs": [],
   "source": [
    "# Convertir la salida de cmdstanpy a un objeto InferenceData\n",
    "idata = az.from_cmdstanpy(fit)\n",
    "\n",
    "az.plot_trace(idata, var_names=[\"lambda\"], figsize=(8,3))\n",
    "plt.show()\n",
    "\n",
    "# Graficar el posterior de lambda\n",
    "az.plot_posterior(idata, var_names=[\"lambda\"], figsize=(5,3))\n",
    "plt.show()"
   ]
  },
  {
   "cell_type": "code",
   "execution_count": null,
   "id": "3f2bac0b-a085-4e2a-a721-73ad75879568",
   "metadata": {},
   "outputs": [],
   "source": []
  }
 ],
 "metadata": {
  "kernelspec": {
   "display_name": "Python 3 (ipykernel)",
   "language": "python",
   "name": "python3"
  },
  "language_info": {
   "codemirror_mode": {
    "name": "ipython",
    "version": 3
   },
   "file_extension": ".py",
   "mimetype": "text/x-python",
   "name": "python",
   "nbconvert_exporter": "python",
   "pygments_lexer": "ipython3",
   "version": "3.10.16"
  }
 },
 "nbformat": 4,
 "nbformat_minor": 5
}
